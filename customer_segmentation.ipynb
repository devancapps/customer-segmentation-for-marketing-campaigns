{
 "cells": [
  {
   "cell_type": "code",
   "execution_count": null,
   "metadata": {},
   "outputs": [],
   "source": [
    "# customer_segmentation.ipynb\n",
    "\n",
    "# Importing the necessary libraries for data analysis and visualization\n",
    "import pandas as pd\n",
    "import numpy as np\n",
    "import matplotlib.pyplot as plt\n",
    "import seaborn as sns\n",
    "from sklearn.preprocessing import StandardScaler\n",
    "from sklearn.cluster import KMeans\n",
    "from sklearn.metrics import silhouette_score\n",
    "import plotly.express as px"
   ]
  },
  {
   "cell_type": "code",
   "execution_count": null,
   "metadata": {},
   "outputs": [],
   "source": [
    "# Load the data\n",
    "# The customer data CSV file is loaded here\n",
    "data = pd.read_csv('data/customer_data.csv')\n",
    "\n",
    "# Show the first few rows of the dataset to understand its structure\n",
    "data.head()\n",
    "# Data Preprocessing\n",
    "\n",
    "# Check for missing values\n",
    "print(\"Missing Values:\", data.isnull().sum())\n",
    "\n",
    "# Convert 'Gender' to binary (Male = 1, Female = 0)\n",
    "data['Gender'] = data['Gender'].map({'Male': 1, 'Female': 0})\n",
    "\n",
    "# Checking the basic statistics of the data\n",
    "print(data.describe())\n"
   ]
  },
  {
   "cell_type": "code",
   "execution_count": null,
   "metadata": {},
   "outputs": [],
   "source": [
    "# Normalize the data (Scaling the numerical features for clustering)\n",
    "scaler = StandardScaler()\n",
    "data_scaled = scaler.fit_transform(data[['Age', 'AnnualIncome', 'SpendingScore']])\n"
   ]
  },
  {
   "cell_type": "code",
   "execution_count": null,
   "metadata": {},
   "outputs": [],
   "source": [
    "# Perform K-Means clustering for customer segmentation\n",
    "\n",
    "# Let's determine the optimal number of clusters using the Elbow Method\n",
    "wcss = []\n",
    "for i in range(1, 11):\n",
    "    kmeans = KMeans(n_clusters=i, init='k-means++', max_iter=300, n_init=10, random_state=42)\n",
    "    kmeans.fit(data_scaled)\n",
    "    wcss.append(kmeans.inertia_)\n",
    "\n",
    "# Plot the WCSS to visually determine the \"elbow\" (optimal clusters)\n",
    "plt.figure(figsize=(10,6))\n",
    "plt.plot(range(1, 11), wcss)\n",
    "plt.title('Elbow Method for Optimal Clusters')\n",
    "plt.xlabel('Number of clusters')\n",
    "plt.ylabel('WCSS')\n",
    "plt.show()"
   ]
  },
  {
   "cell_type": "code",
   "execution_count": null,
   "metadata": {},
   "outputs": [],
   "source": [
    "# Based on the elbow method, we choose 3 clusters as the optimal number\n",
    "kmeans = KMeans(n_clusters=3, init='k-means++', max_iter=300, n_init=10, random_state=42)\n",
    "data['Cluster'] = kmeans.fit_predict(data_scaled)\n",
    "\n",
    "# Visualize the clusters using a scatter plot\n",
    "plt.figure(figsize=(10,6))\n",
    "sns.scatterplot(x=data['Age'], y=data['AnnualIncome'], hue=data['Cluster'], palette='viridis', s=100)\n",
    "plt.title('Customer Segments (Clustered)')\n",
    "plt.xlabel('Age')\n",
    "plt.ylabel('Annual Income')\n",
    "plt.legend(title='Cluster', loc='best')\n",
    "plt.show()"
   ]
  },
  {
   "cell_type": "code",
   "execution_count": null,
   "metadata": {},
   "outputs": [],
   "source": [
    "# Cluster Profile Analysis (describe each segment)\n",
    "cluster_profile = data.groupby('Cluster').agg({\n",
    "    'Age': ['mean', 'std'],\n",
    "    'AnnualIncome': ['mean', 'std'],\n",
    "    'SpendingScore': ['mean', 'std'],\n",
    "    'LoyaltyStatus': ['mean'],\n",
    "    'ProductCategory': lambda x: x.mode()[0]  # Most frequent product category per cluster\n",
    "})\n",
    "\n",
    "print(cluster_profile)"
   ]
  }
 ],
 "metadata": {
  "language_info": {
   "name": "python"
  },
  "orig_nbformat": 4
 },
 "nbformat": 4,
 "nbformat_minor": 2
}
