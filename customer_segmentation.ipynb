{
 "cells": [
  {
   "cell_type": "code",
   "execution_count": null,
   "metadata": {},
   "outputs": [],
   "source": [
    "# customer_segmentation.ipynb\n",
    "\n",
    "# Importing the necessary libraries for data analysis and visualization\n",
    "import pandas as pd\n",
    "import numpy as np\n",
    "import matplotlib.pyplot as plt\n",
    "import seaborn as sns\n",
    "from sklearn.preprocessing import StandardScaler\n",
    "from sklearn.cluster import KMeans\n",
    "from sklearn.metrics import silhouette_score\n",
    "import plotly.express as px"
   ]
  },
  {
   "cell_type": "code",
   "execution_count": null,
   "metadata": {},
   "outputs": [],
   "source": [
    "# Load the data\n",
    "# The customer data CSV file is loaded here\n",
    "data = pd.read_csv('data/customer_data.csv')\n",
    "\n",
    "# Show the first few rows of the dataset to understand its structure\n",
    "data.head()\n",
    "# Data Preprocessing\n",
    "\n",
    "# Check for missing values\n",
    "print(\"Missing Values:\", data.isnull().sum())\n",
    "\n",
    "# Convert 'Gender' to binary (Male = 1, Female = 0)\n",
    "data['Gender'] = data['Gender'].map({'Male': 1, 'Female': 0})\n",
    "\n",
    "# Checking the basic statistics of the data\n",
    "print(data.describe())\n"
   ]
  }
 ],
 "metadata": {
  "language_info": {
   "name": "python"
  },
  "orig_nbformat": 4
 },
 "nbformat": 4,
 "nbformat_minor": 2
}
